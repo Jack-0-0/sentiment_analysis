{
  "nbformat": 4,
  "nbformat_minor": 0,
  "metadata": {
    "colab": {
      "name": "sentiment_analysis_inf.ipynb",
      "provenance": [],
      "collapsed_sections": []
    },
    "kernelspec": {
      "name": "python3",
      "display_name": "Python 3"
    }
  },
  "cells": [
    {
      "cell_type": "code",
      "metadata": {
        "id": "GyhbbWe8OIUe"
      },
      "source": [
        "from fastai.text.all import *\n",
        "import urllib.request\n",
        "import ipywidgets as widgets\n",
        "from IPython.display import display"
      ],
      "execution_count": null,
      "outputs": []
    },
    {
      "cell_type": "code",
      "metadata": {
        "id": "C4jmtHsPAEad"
      },
      "source": [
        "# download model\r\n",
        "MODEL_URL = \"https://www.dropbox.com/s/k6p8p2gc731h4v8/model.pkl?dl=1\"\r\n",
        "urllib.request.urlretrieve(MODEL_URL, 'model_db.pkl')\r\n",
        "# load model\r\n",
        "model = load_learner('model_db.pkl', cpu=True)"
      ],
      "execution_count": null,
      "outputs": []
    },
    {
      "cell_type": "code",
      "metadata": {
        "id": "z-gpCzeV1h1u"
      },
      "source": [
        "# create widgets\n",
        "text = widgets.Text(\n",
        "    value='',\n",
        "    placeholder='Type text here...',\n",
        "    description='',\n",
        "    disabled=False\n",
        ")\n",
        "\n",
        "button = widgets.Button(\n",
        "    description='Classify Sentiment',\n",
        "    disabled=False,\n",
        "    button_style='', # 'success', 'info', 'warning', 'danger' or ''\n",
        "    tooltip='Click me',\n",
        "    icon='check'\n",
        ")\n",
        "\n",
        "lbl_pred = widgets.Label()\n",
        "\n",
        "output = widgets.Output()"
      ],
      "execution_count": null,
      "outputs": []
    },
    {
      "cell_type": "code",
      "metadata": {
        "id": "UfZFJquq3Cq2"
      },
      "source": [
        "def on_button_clicked(b):\n",
        "    output.clear_output()\n",
        "    pred = model.predict(text.value)\n",
        "    result = pred[0].capitalize()\n",
        "    conf = float(torch.max(pred[2]) * 100)\n",
        "    lbl_pred.value = f'Sentiment: {result}, Confidence: {conf:.01f}%'\n",
        "    with output:\n",
        "        display(lbl_pred)"
      ],
      "execution_count": null,
      "outputs": []
    },
    {
      "cell_type": "code",
      "metadata": {
        "id": "Y5e0xreWBfCz"
      },
      "source": [
        "display(widgets.VBox([widgets.Label('Type text below and click the button to classify sentiment'), text, button, output]))\r\n",
        "button.on_click(on_button_clicked)"
      ],
      "execution_count": null,
      "outputs": []
    }
  ]
}